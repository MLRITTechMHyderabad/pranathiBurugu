{
 "cells": [
  {
   "cell_type": "code",
   "execution_count": null,
   "id": "b47ee677-18cd-4d1f-b7ca-185d203cb7c3",
   "metadata": {},
   "outputs": [],
   "source": [
    "import numpy as np\n",
    "stock_prices= np.array(li)\n",
    "li_avg_stocks=np.mean(stock_prices,axis=0)\n",
    "li_avg_stocks_arr=np.array(li_avg_stocks)\n",
    "print(li_avg_stocks)\n",
    "max_day=np.max(stock_prices)\n",
    "min_price=np.min(stock_prices)\n",
    "print((stock_prices-min_price)/(max_day-min_price))\n",
    "print(\"Highest price recorded : \",max_day,\"at Day\",date_li[0]+1,\"company\",date_li[1]+1)\n",
    "date_li=np.unravel_index(np.argmax(stock_prices),stock_prices.shape)\n"
   ]
  },
  {
   "cell_type": "code",
   "execution_count": null,
   "id": "cc8038b7-bef7-4725-985b-dab4a4e0a0d1",
   "metadata": {},
   "outputs": [],
   "source": []
  }
 ],
 "metadata": {
  "kernelspec": {
   "display_name": "Python 3 (ipykernel)",
   "language": "python",
   "name": "python3"
  },
  "language_info": {
   "codemirror_mode": {
    "name": "ipython",
    "version": 3
   },
   "file_extension": ".py",
   "mimetype": "text/x-python",
   "name": "python",
   "nbconvert_exporter": "python",
   "pygments_lexer": "ipython3",
   "version": "3.13.2"
  }
 },
 "nbformat": 4,
 "nbformat_minor": 5
}
