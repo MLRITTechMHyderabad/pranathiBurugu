{
 "cells": [
  {
   "cell_type": "code",
   "execution_count": 15,
   "id": "b47ee677-18cd-4d1f-b7ca-185d203cb7c3",
   "metadata": {},
   "outputs": [
    {
     "name": "stdout",
     "output_type": "stream",
     "text": [
      "[[193 250 349 340 158]\n",
      " [478 415 477 251 424]]\n",
      "Average stock_prices:  [335.5 332.5 413.  295.5 291. ]\n",
      "Highest price recorded:  478  at Day  1 , Company  2\n",
      "[[  57   99   -9 -182]\n",
      " [ -63   62 -226  173]]\n"
     ]
    }
   ],
   "source": [
    "import numpy as np\n",
    "import random\n",
    "stock_prices = np.random.randint(100, 500, (2,5))\n",
    "print(stock_prices)\n",
    "print(\"Average stock_prices: \",np.mean(stock_prices, axis=0))\n",
    "m = np.max(stock_prices)\n",
    "x = np.unravel_index(np.argmax(stock_prices),stock_prices.shape)\n",
    "print(\"Highest price recorded: \",m,\" at Day \",x[1]+1,\", Company \",x[0]+1)\n",
    "# print((stock_prices-np.min(stock_prices)/(np.max(stock_prices)-np.min(stock_prices))))\n",
    "d = np.diff(stock_prices, axis=1)\n",
    "print(d)\n",
    "# print(d[d>0], d[d<200])\n"
   ]
  },
  {
   "cell_type": "code",
   "execution_count": 18,
   "id": "cc8038b7-bef7-4725-985b-dab4a4e0a0d1",
   "metadata": {},
   "outputs": [
    {
     "name": "stderr",
     "output_type": "stream",
     "text": [
      "INFO:root:a\n"
     ]
    }
   ],
   "source": [
    "# authorization.py\n",
    "import re\n",
    "import json\n",
    "import logging\n",
    "\n",
    "logging.basicConfig(level=logging.INFO, format='%(name)s - %(levelname)s - %(message)s')\n",
    "logging.info(\"a\")\n",
    "\n",
    "class LaunchAuthorizationSystem:\n",
    "    \"\"\"Handles nuclear launch authorization validation.\"\"\"\n",
    "    \n",
    "    # AUTH_PATTERN = r””# Regex for security code validation\n",
    "\n",
    "    @staticmethod\n",
    "    def validate_code(code):\n",
    "        \"\"\"Validates the launch authorization code.\"\"\"\n"
   ]
  },
  {
   "cell_type": "code",
   "execution_count": null,
   "id": "30a32aac-e234-4e9c-a087-3f7e5c1387a7",
   "metadata": {},
   "outputs": [],
   "source": []
  },
  {
   "cell_type": "code",
   "execution_count": null,
   "id": "3d640977-44e0-4f32-9801-3e7a3210b9a6",
   "metadata": {},
   "outputs": [],
   "source": []
  },
  {
   "cell_type": "code",
   "execution_count": null,
   "id": "91e6e2a8-2ed6-4652-a686-6bad203f2a9b",
   "metadata": {},
   "outputs": [],
   "source": []
  }
 ],
 "metadata": {
  "kernelspec": {
   "display_name": "Python 3 (ipykernel)",
   "language": "python",
   "name": "python3"
  },
  "language_info": {
   "codemirror_mode": {
    "name": "ipython",
    "version": 3
   },
   "file_extension": ".py",
   "mimetype": "text/x-python",
   "name": "python",
   "nbconvert_exporter": "python",
   "pygments_lexer": "ipython3",
   "version": "3.13.2"
  }
 },
 "nbformat": 4,
 "nbformat_minor": 5
}
